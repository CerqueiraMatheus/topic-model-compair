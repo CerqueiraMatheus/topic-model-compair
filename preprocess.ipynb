{
 "cells": [
  {
   "cell_type": "code",
   "execution_count": 26,
   "metadata": {
    "ExecuteTime": {
     "end_time": "2023-04-06T15:01:58.760659Z",
     "start_time": "2023-04-06T15:01:58.028629Z"
    }
   },
   "outputs": [],
   "source": [
    "import csv\n",
    "import nltk\n",
    "import pandas as pd\n",
    "\n",
    "from tqdm import tqdm\n",
    "from nltk.corpus import stopwords\n",
    "from sklearn.model_selection import train_test_split"
   ]
  },
  {
   "cell_type": "code",
   "execution_count": 27,
   "metadata": {
    "ExecuteTime": {
     "end_time": "2023-04-06T15:02:04.649844Z",
     "start_time": "2023-04-06T15:02:03.260595Z"
    }
   },
   "outputs": [],
   "source": [
    "# Load dataset\n",
    "dataset = pd.read_csv('dataset_comentarios.csv', delimiter=';')"
   ]
  },
  {
   "cell_type": "code",
   "execution_count": 28,
   "metadata": {
    "ExecuteTime": {
     "end_time": "2023-04-06T15:02:07.177238Z",
     "start_time": "2023-04-06T15:02:07.137699Z"
    }
   },
   "outputs": [
    {
     "data": {
      "text/html": [
       "<div>\n",
       "<style scoped>\n",
       "    .dataframe tbody tr th:only-of-type {\n",
       "        vertical-align: middle;\n",
       "    }\n",
       "\n",
       "    .dataframe tbody tr th {\n",
       "        vertical-align: top;\n",
       "    }\n",
       "\n",
       "    .dataframe thead th {\n",
       "        text-align: right;\n",
       "    }\n",
       "</style>\n",
       "<table border=\"1\" class=\"dataframe\">\n",
       "  <thead>\n",
       "    <tr style=\"text-align: right;\">\n",
       "      <th></th>\n",
       "      <th>ide_formulario_publicado</th>\n",
       "      <th>nom_titulo_formulario_publicado</th>\n",
       "      <th>des_conteudo</th>\n",
       "      <th>qtd_curtidas</th>\n",
       "      <th>qtd_descurtidas</th>\n",
       "      <th>dat_posicionamento</th>\n",
       "      <th>cod_autorizado</th>\n",
       "    </tr>\n",
       "  </thead>\n",
       "  <tbody>\n",
       "    <tr>\n",
       "      <th>0</th>\n",
       "      <td>361682</td>\n",
       "      <td>PL 11098/2018</td>\n",
       "      <td>Não entendi muito bem a proposta.</td>\n",
       "      <td>0</td>\n",
       "      <td>0</td>\n",
       "      <td>2018-12-04 10:49:55</td>\n",
       "      <td>1</td>\n",
       "    </tr>\n",
       "    <tr>\n",
       "      <th>1</th>\n",
       "      <td>44036</td>\n",
       "      <td>PL 7180/2014</td>\n",
       "      <td>Acabar com doutrinação nas escolas</td>\n",
       "      <td>63</td>\n",
       "      <td>38</td>\n",
       "      <td>2018-12-04 10:51:56</td>\n",
       "      <td>1</td>\n",
       "    </tr>\n",
       "    <tr>\n",
       "      <th>2</th>\n",
       "      <td>44036</td>\n",
       "      <td>PL 7180/2014</td>\n",
       "      <td>Doutrinar crianças</td>\n",
       "      <td>17</td>\n",
       "      <td>35</td>\n",
       "      <td>2018-12-04 10:51:56</td>\n",
       "      <td>1</td>\n",
       "    </tr>\n",
       "    <tr>\n",
       "      <th>3</th>\n",
       "      <td>44036</td>\n",
       "      <td>PL 7180/2014</td>\n",
       "      <td>Professores têm que exercer a liberdade de Cát...</td>\n",
       "      <td>36</td>\n",
       "      <td>35</td>\n",
       "      <td>2018-12-04 10:55:44</td>\n",
       "      <td>1</td>\n",
       "    </tr>\n",
       "    <tr>\n",
       "      <th>4</th>\n",
       "      <td>360234</td>\n",
       "      <td>PL 10996/2018</td>\n",
       "      <td>privatiza de forma simplista o setor de saneam...</td>\n",
       "      <td>2</td>\n",
       "      <td>1</td>\n",
       "      <td>2018-12-04 11:05:08</td>\n",
       "      <td>1</td>\n",
       "    </tr>\n",
       "    <tr>\n",
       "      <th>...</th>\n",
       "      <td>...</td>\n",
       "      <td>...</td>\n",
       "      <td>...</td>\n",
       "      <td>...</td>\n",
       "      <td>...</td>\n",
       "      <td>...</td>\n",
       "      <td>...</td>\n",
       "    </tr>\n",
       "    <tr>\n",
       "      <th>381342</th>\n",
       "      <td>522936</td>\n",
       "      <td>PL 5411/2020</td>\n",
       "      <td>Vacinas experimentais. Sem consentimento ou an...</td>\n",
       "      <td>0</td>\n",
       "      <td>0</td>\n",
       "      <td>2021-07-08 11:01:16</td>\n",
       "      <td>0</td>\n",
       "    </tr>\n",
       "    <tr>\n",
       "      <th>381343</th>\n",
       "      <td>529652</td>\n",
       "      <td>INC 373/2021</td>\n",
       "      <td>Maior economia</td>\n",
       "      <td>0</td>\n",
       "      <td>0</td>\n",
       "      <td>2021-07-08 11:08:12</td>\n",
       "      <td>0</td>\n",
       "    </tr>\n",
       "    <tr>\n",
       "      <th>381344</th>\n",
       "      <td>395685</td>\n",
       "      <td>PL 533/2019</td>\n",
       "      <td>Enquanto universitário do curso de direito (UF...</td>\n",
       "      <td>0</td>\n",
       "      <td>0</td>\n",
       "      <td>2021-07-08 11:11:11</td>\n",
       "      <td>0</td>\n",
       "    </tr>\n",
       "    <tr>\n",
       "      <th>381345</th>\n",
       "      <td>529652</td>\n",
       "      <td>INC 373/2021</td>\n",
       "      <td>Muito bom pra carreira dos militares\\n</td>\n",
       "      <td>0</td>\n",
       "      <td>0</td>\n",
       "      <td>2021-07-08 11:11:20</td>\n",
       "      <td>0</td>\n",
       "    </tr>\n",
       "    <tr>\n",
       "      <th>381346</th>\n",
       "      <td>538304</td>\n",
       "      <td>PL 1898/2021</td>\n",
       "      <td>O vínculo com uma universidade conceituada com...</td>\n",
       "      <td>0</td>\n",
       "      <td>0</td>\n",
       "      <td>2021-07-08 11:12:19</td>\n",
       "      <td>0</td>\n",
       "    </tr>\n",
       "  </tbody>\n",
       "</table>\n",
       "<p>381347 rows × 7 columns</p>\n",
       "</div>"
      ],
      "text/plain": [
       "        ide_formulario_publicado nom_titulo_formulario_publicado  \\\n",
       "0                         361682                   PL 11098/2018   \n",
       "1                          44036                    PL 7180/2014   \n",
       "2                          44036                    PL 7180/2014   \n",
       "3                          44036                    PL 7180/2014   \n",
       "4                         360234                   PL 10996/2018   \n",
       "...                          ...                             ...   \n",
       "381342                    522936                    PL 5411/2020   \n",
       "381343                    529652                    INC 373/2021   \n",
       "381344                    395685                     PL 533/2019   \n",
       "381345                    529652                    INC 373/2021   \n",
       "381346                    538304                    PL 1898/2021   \n",
       "\n",
       "                                             des_conteudo  qtd_curtidas  \\\n",
       "0                       Não entendi muito bem a proposta.             0   \n",
       "1                      Acabar com doutrinação nas escolas            63   \n",
       "2                                      Doutrinar crianças            17   \n",
       "3       Professores têm que exercer a liberdade de Cát...            36   \n",
       "4       privatiza de forma simplista o setor de saneam...             2   \n",
       "...                                                   ...           ...   \n",
       "381342  Vacinas experimentais. Sem consentimento ou an...             0   \n",
       "381343                                    Maior economia              0   \n",
       "381344  Enquanto universitário do curso de direito (UF...             0   \n",
       "381345             Muito bom pra carreira dos militares\\n             0   \n",
       "381346  O vínculo com uma universidade conceituada com...             0   \n",
       "\n",
       "        qtd_descurtidas   dat_posicionamento  cod_autorizado  \n",
       "0                     0  2018-12-04 10:49:55               1  \n",
       "1                    38  2018-12-04 10:51:56               1  \n",
       "2                    35  2018-12-04 10:51:56               1  \n",
       "3                    35  2018-12-04 10:55:44               1  \n",
       "4                     1  2018-12-04 11:05:08               1  \n",
       "...                 ...                  ...             ...  \n",
       "381342                0  2021-07-08 11:01:16               0  \n",
       "381343                0  2021-07-08 11:08:12               0  \n",
       "381344                0  2021-07-08 11:11:11               0  \n",
       "381345                0  2021-07-08 11:11:20               0  \n",
       "381346                0  2021-07-08 11:12:19               0  \n",
       "\n",
       "[381347 rows x 7 columns]"
      ]
     },
     "execution_count": 28,
     "metadata": {},
     "output_type": "execute_result"
    }
   ],
   "source": [
    "dataset"
   ]
  },
  {
   "cell_type": "code",
   "execution_count": 29,
   "metadata": {},
   "outputs": [],
   "source": [
    "sentences = list(dataset.head(10000)['des_conteudo'])"
   ]
  },
  {
   "attachments": {},
   "cell_type": "markdown",
   "metadata": {},
   "source": [
    "# Creating a vocabulary"
   ]
  },
  {
   "cell_type": "code",
   "execution_count": 30,
   "metadata": {},
   "outputs": [],
   "source": [
    "# NLTK portuguese stopwords set\n",
    "stop_words = set(stopwords.words('portuguese'))\n",
    "stop_words.remove(\"não\")"
   ]
  },
  {
   "cell_type": "code",
   "execution_count": 31,
   "metadata": {},
   "outputs": [
    {
     "name": "stderr",
     "output_type": "stream",
     "text": [
      "100%|██████████| 10000/10000 [00:03<00:00, 2637.69it/s]\n"
     ]
    }
   ],
   "source": [
    "words = set()\n",
    "\n",
    "for sentence in tqdm(sentences):\n",
    "    if isinstance(sentence, str):\n",
    "        cur_words = [word.lower() \n",
    "                     for word in \n",
    "                     nltk.word_tokenize(sentence) if \n",
    "                     (word.isalnum() and word.lower() not in stop_words)]\n",
    "    words.update(cur_words)"
   ]
  },
  {
   "cell_type": "code",
   "execution_count": 32,
   "metadata": {},
   "outputs": [],
   "source": [
    "with open('vocabulary.txt', 'w') as vocabulary:\n",
    "    for word in words:\n",
    "        vocabulary.write(word)\n",
    "        vocabulary.write('\\n')"
   ]
  },
  {
   "attachments": {},
   "cell_type": "markdown",
   "metadata": {},
   "source": [
    "# Creating a .tsv"
   ]
  },
  {
   "cell_type": "code",
   "execution_count": 33,
   "metadata": {},
   "outputs": [
    {
     "name": "stderr",
     "output_type": "stream",
     "text": [
      "100%|██████████| 10000/10000 [00:03<00:00, 2696.94it/s]\n"
     ]
    }
   ],
   "source": [
    "ren_sentences = []\n",
    "\n",
    "for sentence in tqdm(sentences):\n",
    "    if (isinstance(sentence, str)):\n",
    "        cur_words = [word.lower() \n",
    "                     for word in \n",
    "                     nltk.word_tokenize(sentence) if \n",
    "                     (word.isalnum() and word.lower() not in stop_words)]\n",
    "        \n",
    "        new_sentence = ' '.join(cur_words)\n",
    "        if (new_sentence.strip() != \"\"):\n",
    "            ren_sentences.append(new_sentence)"
   ]
  },
  {
   "cell_type": "code",
   "execution_count": 34,
   "metadata": {},
   "outputs": [],
   "source": [
    "# Split train, test and validation\n",
    "X_train, X_rem = train_test_split(ren_sentences, train_size=0.7)\n",
    "X_test, X_val = train_test_split(X_rem, test_size=0.5)"
   ]
  },
  {
   "cell_type": "code",
   "execution_count": 35,
   "metadata": {},
   "outputs": [],
   "source": [
    "# Add labels\n",
    "train_list = [[sentence, 'train'] for sentence in X_train]\n",
    "test_list = [[sentence, 'test'] for sentence in X_test]\n",
    "val_list = [[sentence, 'val'] for sentence in X_val]\n",
    "\n",
    "# Concat lists\n",
    "concat_list = train_list + test_list + val_list"
   ]
  },
  {
   "cell_type": "code",
   "execution_count": 36,
   "metadata": {},
   "outputs": [
    {
     "data": {
      "text/html": [
       "<div>\n",
       "<style scoped>\n",
       "    .dataframe tbody tr th:only-of-type {\n",
       "        vertical-align: middle;\n",
       "    }\n",
       "\n",
       "    .dataframe tbody tr th {\n",
       "        vertical-align: top;\n",
       "    }\n",
       "\n",
       "    .dataframe thead th {\n",
       "        text-align: right;\n",
       "    }\n",
       "</style>\n",
       "<table border=\"1\" class=\"dataframe\">\n",
       "  <thead>\n",
       "    <tr style=\"text-align: right;\">\n",
       "      <th></th>\n",
       "      <th>text</th>\n",
       "      <th>train</th>\n",
       "    </tr>\n",
       "  </thead>\n",
       "  <tbody>\n",
       "    <tr>\n",
       "      <th>0</th>\n",
       "      <td>disparate total</td>\n",
       "      <td>train</td>\n",
       "    </tr>\n",
       "    <tr>\n",
       "      <th>1</th>\n",
       "      <td>pontos positivos proposta atinge direitos trab...</td>\n",
       "      <td>train</td>\n",
       "    </tr>\n",
       "    <tr>\n",
       "      <th>2</th>\n",
       "      <td>irá possibilitar profissionais despreparado ex...</td>\n",
       "      <td>train</td>\n",
       "    </tr>\n",
       "    <tr>\n",
       "      <th>3</th>\n",
       "      <td>exame importante requerer profissional direito...</td>\n",
       "      <td>train</td>\n",
       "    </tr>\n",
       "    <tr>\n",
       "      <th>4</th>\n",
       "      <td>todos deviam fazer prova valor justo nota fica...</td>\n",
       "      <td>train</td>\n",
       "    </tr>\n",
       "    <tr>\n",
       "      <th>...</th>\n",
       "      <td>...</td>\n",
       "      <td>...</td>\n",
       "    </tr>\n",
       "    <tr>\n",
       "      <th>9988</th>\n",
       "      <td>diminuir totalmente contrário aumento jornada ...</td>\n",
       "      <td>val</td>\n",
       "    </tr>\n",
       "    <tr>\n",
       "      <th>9989</th>\n",
       "      <td>colegas faculdade não condições passar graduaç...</td>\n",
       "      <td>val</td>\n",
       "    </tr>\n",
       "    <tr>\n",
       "      <th>9990</th>\n",
       "      <td>não ponto positivo</td>\n",
       "      <td>val</td>\n",
       "    </tr>\n",
       "    <tr>\n",
       "      <th>9991</th>\n",
       "      <td>destruição total fauna flora satisfazer ego ge...</td>\n",
       "      <td>val</td>\n",
       "    </tr>\n",
       "    <tr>\n",
       "      <th>9992</th>\n",
       "      <td>nutricionista profissional capacitado prescriç...</td>\n",
       "      <td>val</td>\n",
       "    </tr>\n",
       "  </tbody>\n",
       "</table>\n",
       "<p>9993 rows × 2 columns</p>\n",
       "</div>"
      ],
      "text/plain": [
       "                                                   text  train\n",
       "0                                       disparate total  train\n",
       "1     pontos positivos proposta atinge direitos trab...  train\n",
       "2     irá possibilitar profissionais despreparado ex...  train\n",
       "3     exame importante requerer profissional direito...  train\n",
       "4     todos deviam fazer prova valor justo nota fica...  train\n",
       "...                                                 ...    ...\n",
       "9988  diminuir totalmente contrário aumento jornada ...    val\n",
       "9989  colegas faculdade não condições passar graduaç...    val\n",
       "9990                                 não ponto positivo    val\n",
       "9991  destruição total fauna flora satisfazer ego ge...    val\n",
       "9992  nutricionista profissional capacitado prescriç...    val\n",
       "\n",
       "[9993 rows x 2 columns]"
      ]
     },
     "execution_count": 36,
     "metadata": {},
     "output_type": "execute_result"
    }
   ],
   "source": [
    "# Create Dataframe\n",
    "corpus_df = pd.DataFrame(concat_list, columns=['text', 'train']).replace('\"','', regex=True)\n",
    "corpus_df.to_csv('corpus.tsv', sep='\\t', index=False, header=False)\n",
    "corpus_df"
   ]
  }
 ],
 "metadata": {
  "kernelspec": {
   "display_name": "base",
   "language": "python",
   "name": "python3"
  },
  "language_info": {
   "codemirror_mode": {
    "name": "ipython",
    "version": 3
   },
   "file_extension": ".py",
   "mimetype": "text/x-python",
   "name": "python",
   "nbconvert_exporter": "python",
   "pygments_lexer": "ipython3",
   "version": "3.9.7"
  },
  "orig_nbformat": 4
 },
 "nbformat": 4,
 "nbformat_minor": 2
}

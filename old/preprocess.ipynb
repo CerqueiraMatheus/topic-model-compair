{
 "cells": [
  {
   "cell_type": "code",
   "execution_count": 1,
   "metadata": {
    "ExecuteTime": {
     "end_time": "2023-04-06T15:01:58.760659Z",
     "start_time": "2023-04-06T15:01:58.028629Z"
    }
   },
   "outputs": [],
   "source": [
    "import csv\n",
    "import nltk\n",
    "import pandas as pd\n",
    "\n",
    "from tqdm import tqdm\n",
    "from nltk.corpus import stopwords\n",
    "from sklearn.model_selection import train_test_split"
   ]
  },
  {
   "cell_type": "code",
   "execution_count": 3,
   "metadata": {
    "ExecuteTime": {
     "end_time": "2023-04-06T15:02:04.649844Z",
     "start_time": "2023-04-06T15:02:03.260595Z"
    }
   },
   "outputs": [],
   "source": [
    "# Load dataset\n",
    "dataset = pd.read_csv('dataset_acordaos.csv', delimiter=',')"
   ]
  },
  {
   "cell_type": "code",
   "execution_count": 10,
   "metadata": {},
   "outputs": [
    {
     "data": {
      "text/plain": [
       "{85568, 85696, 85714, 85721, 85738}"
      ]
     },
     "execution_count": 10,
     "metadata": {},
     "output_type": "execute_result"
    }
   ],
   "source": [
    "set(dataset['codigos_movimentos_temas'])"
   ]
  },
  {
   "cell_type": "code",
   "execution_count": 15,
   "metadata": {},
   "outputs": [
    {
     "data": {
      "text/plain": [
       "' Registro: 2020.0000079227 ACÓRDÃO Vistos, relatados e discutidos estes autos de Apelação Cível nº 0000150-84.2015.8.26.0315, da Comarca de Laranjal Paulista, em que é apelante BANCO DO BRASIL S/A, é apelado ANA CRISTIANE CARNIEL BRONZATTI. ACORDAM, em sessão permanente e virtual da 17ª Câmara de Direito Privado do Tribunal de Justiça de São Paulo, proferir a seguinte decisão: Deram provimento em parte ao recurso. V. U., de conformidade com o voto do relator, que integra este acórdão. O julgamento teve a participação dos Desembargadores IRINEU FAVA (Presidente) e SOUZA LOPES. São Paulo, 10 de fevereiro de 2020. JOÃO BATISTA VILHENA Relator Assinatura Eletrônica APELANTE: BANCO DO BRASIL S/A APELADO: ANA CRISTIANE CARNIEL BRONZATTI VOTO nº97.406 EMENTA APELAÇÃO EXPURGOS INFLACIONÁRIOS AÇÃO CIVIL PÚBLICA EXECUÇÃO INDIVIDUAL Fase de liquidação de sentença Necessidade de observância do disposto no art. 509, inc. II, do CPC de 2015 Caso concreto em que efetivamente não houve qualquer prejuízo às partes. APELAÇÃO EXPURGOS INFLACIONÁRIOS AÇÃO CIVIL PÚBLICA EXECUÇÃO INDIVIDUAL COMPETÊNCIA Pleito que não está restrito ao foro onde tramitou a ação coletiva, podendo ser deduzido pelo poupador no foro de seu domicílio Entendimento pacificado pelo STJ em análise de recurso repetitivo Prefacial afastada. APELAÇÃO EXPURGOS INFLACIONÁRIOS AÇÃO CIVIL PÚBLICA EXECUÇÃO INDIVIDUAL LEGITIMIDADE ATIVA Necessidade de filiação ao IDEC Descabimento Possibilidade de ajuizamento de ação executiva individual por todos os poupadores Entendimento pacificado pelo STJ em análise de recurso repetitivo Prefacial rejeitada. APELAÇÃO EXPURGOS INFLACIONÁRIOS AÇÃO CIVIL PÚBLICA EXECUÇÃO INDIVIDUAL CORREÇÃO MONETÁRIA Decisão agravada que determinou a utilização dos índices da Tabela Prática do TJ/SP Índice que se revela adequado para atualizar monetariamente os débitos para fins de cobrança judicial Entendimento pacificado pela 17ª Câmara de Direito Privado. APELAÇÃO EXPURGOS INFLACIONÁRIOS AÇÃO CIVIL PÚBLICA EXECUÇÃO INDIVIDUAL CORREÇÃO MONETÁRIA INCLUSÃO DE OUTROS EXPURGOS NÃO CONTEMPLADOS NA SENTENÇA EXEQUENDA Admissibilidade da incidência dos expurgos inflacionários posteriores ao Plano Verão, como correção monetária plena do débito judicial, tendo como base de cálculo o saldo existente ao tempo do plano econômico em questão na lide, e não os valores de depósitos da época de cada plano subsequente Entendimento pacificado pelo STJ com o julgamento de repetitivo, REsp nº 1.314.478/RS. APELAÇÃO EXPURGOS INFLACIONÁRIOS AÇÃO CIVIL PÚBLICA EXECUÇÃO INDIVIDUAL JUROS REMUNERATÓRIOS Embargos de declaração apresentados na Ação Civil Pública que ensejou nova decisão admitindo-se a Apelação Cível nº 0000150-84.2015.8.26.0315 - Laranjal Paulista 2/15 incidência de juros remuneratórios mês a mês. APELAÇÃO EXPURGOS INFLACIONÁRIOS AÇÃO CIVIL PÚBLICA EXECUÇÃO INDIVIDUAL JUROS REMUNERATÓRIOS PRESCRIÇÃO Inocorrência Prazo prescricional que na espécie é vintenário Inteligência do art. 177, do CC Entendimento jurisprudencial do STJ. APELAÇÃO EXPURGOS INFLACIONÁRIOS AÇÃO CIVIL PÚBLICA EXECUÇÃO INDIVIDUAL JUROS REMUNERATÓRIOS TERMO FINAL Cálculo realizado que não observou a sua incidência mensal Data do encerramento da conta-poupança Extinta a obrigação principal, não mais se justifica a subsistência dos juros remuneratórios, estes considerados frutos civis que representam prestações acessórias Prova de extinção que incumbe à instituição financeira, sob pena de adotar-se como marco final de incidência a data da citação nos autos da ação civil pública que originou o cumprimento de sentença Precedentes do Superior Tribunal de Justiça. APELAÇÃO EXPURGOS INFLACIONÁRIOS AÇÃO CIVIL PÚBLICA EXECUÇÃO INDIVIDUAL JUROS MORATÓRIOS TERMO INICIAL Data da citação para a ação coletiva Matéria que já foi assim decidida na sentença da Ação Civil Pública, e que não pode ser alterada sob pena de violação à coisa julgada Entendimento, outrossim, nesse sentido pacificado pelo STJ em análise de recurso repetitivo. APELAÇÃO EXPURGOS INFLACIONÁRIOS AÇÃO CIVIL PÚBLICA EXECUÇÃO INDIVIDUAL HONORÁRIOS ADVOCATÍCIOS Verba indevida Depósito realizado dentro do prazo legal Hipótese de decisão proferida em incidente processual Entendimento jurisprudencial do STJ Pagamento voluntário no prazo estabelecido no caput, do art. 523, § 1º, do CPC. Recurso parcialmente provido. Trata-se de apelação (fls. 146/182) interposta contra a sentença de fls. 134/138 que julgou improcedente a impugnação e julgou extinguiu o processo de execução, nos termos do art. 794, inc. I, do Código de Processo Civil de 1973. Insurge-se o executado, pugnando pela reforma do r. decisum. Em suas razões recursais, argumenta, preliminarmente, descabimento da extinção da ação em razão dos índices adotados; ilegitimidade de parte, por não estarem os autores abrangidos pelo título judicial; necessidade de prévia liquidação do julgado; e incompetência do juízo. No mérito, sustenta que os juros remuneratórios não estão abrangidos no título, além de estarem prescritos e cobrados com o termo a quo errado; os juros moratórios incidem a Apelação Cível nº 0000150-84.2015.8.26.0315 - Laranjal Paulista 3/15 contar da citação realizada nestes autos; correção monetária pelos índices de poupança; não inclusão de outros expurgos; e descabimento da condenação em honorários. Preparo realizado a fls. 183/186. Contrarrazões estão a fls. 195/200. É O RELATÓRIO. Tem razão em parte o recorrente. De plano, necessário destacar que o procedimento conferido à liquidação nestes autos não respeitou o quanto previsto em lei. Para a hipótese sob análise, a liquidação necessária seria aquela estatuída no art. 475-E, do Código de Processo Civil de 1973, hoje o art. 509, inc. II, do Código de Processo Civil de 2015, ou seja, dever-se-ia observar o procedimento ordinário ou comum, respectivamente consideradas as regras legais indicadas. Ora, embora este desvio, não é caso de reconhecer-se aqui qualquer nulidade, mesmo porque por outro tortuoso modo conseguiu-se chegar ao desfecho da liquidação, em decisão contra a qual interposto o agravo sob análise. No que tange à alegada incompetência do juízo para o trâmite do pedido de cumprimento de sentença apresentado pelo apelado, não há mais qualquer controvérsia sobre a possibilidade de ser ajuizado tal pleito no foro do domicílio do poupador, como no caso dos autos, cumprindo apenas destacar que o pedido em questão não se refere à ação civil pública aludida nas razões recursais, que tramitou no Distrito Federal, mas, à ação civil pública sob o nº 0403263-60.1993.8.26.0053, perante a 6ª Vara da Fazenda Pública da Comarca da Capital. No sentido da competência do foro de domicílio do poupador, como acima referido, a matéria restou pacificada em sede de análise do Recurso Repetitivo nº 1.243.887-PR, como se pode conferir: DIREITO PROCESSUAL. RECURSO REPRESENTATIVO DE CONTROVÉRSIA (ART. 543-C, CPC). DIREITOS METAINDIVIDUAIS. AÇÃO CIVIL PÚBLICA. APADECO X BANESTADO. EXPURGOS INFLACIONÁRIOS. EXECUÇÃO/LIQUIDAÇÃO INDIVIDUAL. FORO COMPETENTE. ALCANCE OBJETIVO E SUBJETIVO DOS EFEITOS DA SENTENÇA COLETIVA. LIMITAÇÃO TERRITORIAL. IMPROPRIEDADE. REVISÃO JURISPRUDENCIAL. LIMITAÇÃO AOS Apelação Cível nº 0000150-84.2015.8.26.0315 - Laranjal Paulista 4/15 ASSOCIADOS. INVIABILIDADE. OFENSA À COISA JULGADA. 1. Para efeitos do art. 543-C do CPC: 1.1. A liquidação e a execução individual de sentença genérica proferida em ação civil coletiva pode ser ajuizada no foro do domicílio do beneficiário, porquanto os efeitos e a eficácia da sentença não estão circunscritos a lindes geográficos, mas aos limites objetivos e subjetivos do que foi decidido, levando-se em conta, para tanto, sempre a extensão do dano e a qualidade dos interesses metaindividuais postos em juízo (arts. 468, 472 e 474, CPC e 93 e 103, CDC). 1.2. A sentença genérica proferida na ação civil coletiva ajuizada pela Apadeco, que condenou o Banestado ao pagamento dos chamados expurgos inflacionários sobre cadernetas de poupança, dispôs que seus efeitos alcançariam todos os poupadores da instituição financeira do Estado do Paraná. Por isso descabe a alteração do seu alcance em sede de liquidação/execução individual, sob pena de vulneração da coisa julgada. Assim, não se aplica ao caso a limitação contida no art. 2º-A, caput, da Lei n. 9.494/97. 2. Ressalva de fundamentação do Ministro Teori Albino Zavascki. 3. Recurso especial parcialmente conhecido e não provido. (REsp nº 1243887-PR, Corte Especial, rel. Min. Luis Felipe Salomão, j. 19/10/2011). Quanto à preliminar de ilegitimidade ativa, tem-se desnecessária a comprovação de filiação do poupador ao IDEC, o que restou definido pelo Superior Tribunal de Justiça no Recurso Repetitivo nº 1.391.198-RS, caindo por terra toda a argumentação do apelante em sentido contrário. Conferir, a propósito: AÇÃO CIVIL PÚBLICA. RECURSO ESPECIAL REPRESENTATIVO DE CONTROVÉRSIA. ART. 543-C DO CPC. SENTENÇA PROFERIDA PELO JUÍZO DA 12ª VARA CÍVEL DA CIRCUNSCRIÇÃO ESPECIAL JUDICIÁRIA DE BRASÍLIA/DF NA AÇÃO CIVIL COLETIVA N. 1998.01.1.016798-9 (IDEC X BANCO DO BRASIL). EXPURGOS INFLACIONÁRIOS OCORRIDOS EM JANEIRO DE 1989 (PLANO VERÃO). EXECUÇÃO/LIQUIDAÇÃO INDIVIDUAL. FORO COMPETENTE E ALCANCE OBJETIVO E SUBJETIVO DOS EFEITOS Apelação Cível nº 0000150-84.2015.8.26.0315 - Laranjal Paulista 5/15 DA SENTENÇA COLETIVA. OBSERVÂNCIA À COISA JULGADA. 1. Para fins do art. 543-C do Código de Processo Civil: a) a sentença proferida pelo Juízo da 12ª Vara Cível da Circunscrição Especial Judiciária de Brasília/DF, na ação civil coletiva n. 1998.01.1.016798-9, que condenou o Banco do Brasil ao pagamento de diferenças decorrentes de expurgos inflacionários sobre cadernetas de poupança ocorridos em janeiro de 1989 (Plano Verão), é aplicável, por força da coisa julgada, indistintamente a todos os detentores de caderneta de poupança do Banco do Brasil, independentemente de sua residência ou domicílio no Distrito Federal, reconhecendo-se ao beneficiário o direito de ajuizar o cumprimento individual da sentença coletiva no Juízo de seu domicílio ou no Distrito Federal; b) os poupadores ou seus sucessores detêm legitimidade ativa - também por força da coisa julgada -, independentemente de fazerem parte ou não dos quadros associativos do Idec, de ajuizarem o cumprimento individual da sentença coletiva proferida na Ação Civil Pública n. 1998.01.1.016798-9, pelo Juízo da 12ª Vara Cível da Circunscrição Especial Judiciária de Brasília/DF. 2. Recurso especial não provido. (Segunda Seção, Rel. Min. Luis Felipe Salomão, j. em 13.08.2014) Por ser deste modo, incabível a pretendida extinção da execução sem julgamento do mérito com base na ilegitimidade ativa. No que se refere ao índice de correção monetária aplicável, igualmente, não assiste razão ao recorrente. Como bem fundamentado pelo MM. Juiz a quo, a aplicação da Tabela Prática do Tribunal de Justiça para fins de correção monetária ao invés dos índices da caderneta de poupança, se revela de fato, mais adequada para atualizar monetariamente, para fins de cobrança judicial, os débitos decorrentes das diferenças de expurgos inflacionários, não pagas aos poupadores, como no caso dos autos. Outrossim, esta 17ª Câmara de Direito Privado já consolidou entendimento no sentido do quanto acima exposto: “Agravo de instrumento. Ação civil pública. Expurgos Inflacionários. Liquidação de sentença transitada em julgado. Prevenção desta c. Câmara para apreciação dos recursos oriundos do processo nº Apelação Cível nº 0000150-84.2015.8.26.0315 - Laranjal Paulista 6/15 0403263-60.1993.8.26.0053, que tramitou perante a 6ª Vara da Fazenda Pública da Comarca da Capital. (...) Correção monetária. Atualização devida para preservação do valor intrínseco da moeda. Utilização dos índices da Tabela Prática do Tribunal de Justiça do Estado de São Paulo, desde fevereiro de 1989 até o efetivo pagamento. (...) Recurso improvido” (Apelação nº 2200474-31.2015.8.26.0000, 17ª Câmara de Direito Privado, rel. Des. Tércio Pires, j. 30/03/2016). Ainda no que se refere à correção monetária, fica aqui consignado expressamente que a base de cálculo da correção monetária que se aplica sempre sobre qualquer dívida judicial, independentemente de disposição expressa em sentença ou qualquer outra decisão, e sim por força de lei, tem como base para sua incidência, no caso em análise, o saldo existente em conta poupança na época do plano econômico em questão, Plano Verão, e não os valores de eventuais depósitos da época de cada plano subsequente. E isto para que haja mera atualização do montante que se apure devido, e daí, naturalmente, incidirão, respeitado o mecanismo legal aludido, os demais expurgos referentes aos planos econômicos não contemplados na sentença, planos econômicos posteriores, o que de modo algum significa acrescer encargos à dívida tratada, pois, correção monetária é algo que se limita a tornar o montante da condenação atual, não substancialmente maior do que originalmente fixado. Existe, nesse sistema, mera recomposição do valor real da dívida, e assim não fosse feito, aquela última seria injustamente reduzida em face da corrosão inflacionária apurada em determinado período, e com isto ganhariam apenas aqueles que fazem de tudo para procrastinar processos arguindo matérias que não têm a menor razão de ser, nem mesmo no quanto se trata da repercussão econômico-financeira de determinado julgamento judicial, repercussão esta que deveria ser facilmente perceptível ao agravante. Nesse sentido, conferir orientação jurisprudencial do Superior Tribunal de Justiça, assim como desta Corte Estadual já em consonância com entendimento daquele Egrégio Sodalício: DIREITO CIVIL. RECURSO ESPECIAL REPRESENTATIVO DE Apelação Cível nº 0000150-84.2015.8.26.0315 - Laranjal Paulista 7/15 CONTROVÉRSIA. ART. 543-C DO CPC. EXPURGOS INFLACIONÁRIOS. PLANO VERÃO. EXECUÇÃO. INCLUSÃO DE EXPURGOS INFLACIONÁRIOS SUBSEQUENTES. CABIMENTO. CORREÇÃO MONETÁRIA PLENA. 1. Para efeitos do art. 543-C do CPC: \"Na execução de sentença que reconhece o direito de poupadores aos expurgos inflacionários decorrentes do Plano Verão (janeiro de 1989), incidem os expurgos inflacionários posteriores a título de correção monetária plena do débito judicial, que terá como base de cálculo o saldo existente ao tempo do referido plano econômico, e não os valores de eventuais depósitos da época de cada plano subsequente\". 2. Recurso especial não provido. (REsp nº 1314478/RS 2ª Seção, rel. Min. Luis Felipe Salomão, j. 13/05/2015). AGRAVO REGIMENTAL NO RECURSO ESPECIAL. AÇÃO CIVIL PÚBLICA N. 1998.01.016798-9 DE BRASÍLIA/DF. IDEC VS. BANCO DO BRASIL. PLANO VERÃO. EXPURGOS INFLACIONÁRIOS. PLANOS ECONÔMICOS POSTERIORES. INCLUSÃO EM EXECUÇÃO INDIVIDUAL. POSSIBILIDADE. OFENSA À COISA JULGADA. NÃO OCORRÊNCIA. CORREÇÃO MONETÁRIA PLENA. 1. A determinação legal quanto à suspensão dos processos disposta no art. 543-C, §§ 1º e 2º, do CPC não se aplica aos processos que já se encontram no Superior Tribunal de Justiça.(AgRg no ARE no RE nos EDcl no AgRg no REsp 1359153/AL, Rel. Ministra LAURITA VAZ, CORTE ESPECIAL, julgado em 05/11/2014, DJe 27/11/2014). 2. Na ação civil pública n. 1998.01.016798-9, que tramitou na 12ª Vara Cível de Brasília/DF, tendo o Banco do Brasil S.A. sido condenado a pagar os expurgos inflacionários do Plano Verão (janeiro de 1989), é cabível, na fase de execução individual, a inclusão dos expurgos posteriores a título de correção monetária plena, que têm como base de cálculo o saldo existente nas contas de poupança ao tempo do referido plano econômico. Precedentes. 3. Agravo regimental a que se nega provimento. (AgRg no REsp Apelação Cível nº 0000150-84.2015.8.26.0315 - Laranjal Paulista 8/15 1462887/DF, 4ª Turma, rel. Min. Luis Felipe Salomão, j. 11/12/2014). No que toca aos juros remuneratórios, não há razão alguma para acolher- se o pleito do apelante. Correta o MM. Juiz a quo ao determinar a incidência dos juros remuneratórios, porquanto apesar da decisão da ação civil pública em comento, não ter amparados os juros remuneratórios, vistos os autos com maior cuidado, facilmente se percebe que embora, realmente, na sentença originalmente proferida a questão dos mencionados juros não tenha sido abordada, em razão de embargos declaratórios opostos contra aludida decisão pelo Ministério Público, o MM. Juiz prolator, acolhendo a tais embargos, expressamente tratou do tema, e proferiu nova decisão admitindo a incidência dos juros remuneratórios questionados, tudo como consta dos autos principais. Portanto, quando estes juros remuneratórios vêm a ser considerados para fins de liquidação, nada mais se está a fazer do que empregar para definição do quantum debeatur as prévias e claras instruções do título judicial liquidando, título este composto não só pelos termos da sentença, mas por aqueles que a esta foram integrados no julgamento dos embargos declaratórios como acima explanado. Logo, a incidência dos juros remuneratórios deve persistir computada no cálculo do débito, mês a mês, isto para que haja a correta remuneração do montante investido. Nesse sentido, é a jurisprudência do Superior Tribunal de Justiça: “AGRAVO REGIMENTAL NOS EMBARGOS DE DECLARAÇÃO NO AGRAVO EM RECURSO ESPECIAL. EXPURGOS INFLACIONÁRIOS. CUMPRIMENTO DE SENTENÇA PROFERIDA EM AÇÃO CIVIL PÚBLICA. JUROS REMUNERATÓRIOS. PEDIDO EXPRESSO. POSSIBILIDADE. AGRAVO NÃO PROVIDO. 1. O Tribunal de origem, mantendo a decisão proferida em primeira instância, concluiu que houve condenação expressa do agravante, nos autos da ação civil pública, com relação ao pagamento de juros remuneratórios, razão pela qual se afigura correta a inclusão do mencionado encargo nos cálculos apresentados pela parte exequente. 2. Agravo regimental não provido. (AgRg nos EDcl no AREsp nº 678.314-SP, Quarta Turma, rel. Min. Raul Araújo, j. 03.12.2015) Apelação Cível nº 0000150-84.2015.8.26.0315 - Laranjal Paulista 9/15 Também, já tendo decidido esta 17ª Câmara de Direito Privado: “EXECUÇÃO ação civil pública caderneta de poupança expurgo inflacionário incidente a diferença sobre o saldo em janeiro de 1989 inclusão nos cálculos dos demais expurgos decorrentes dos planos econômicos admissibilidade Precedentes do STJ Recurso do embargado provido.” JUROS REMUNERATÓRIOS Incidência mês a mês sobre o capital atualizado mês a mês, devendo ser calculado sobre a diferença a ser creditada Recurso do embargante negado” (Apelação nº 1.309.077-4, rel. Des. Ribeiro de Souza, j. 05/04/2006). No que tange a prescrição dos juros remuneratórios, esta é vintenária, aplicando-se, no caso, a regra do art. 177, do Código Civil de 1916, não a do art. 178, § X, inc. III, deste mesmo Codex, conforme orientação pacífica do Superior Tribunal de Justiça a este respeito, como se pode extrair do seguinte julgado: “AGRAVO REGIMENTAL NO AGRAVO DE INSTRUMENTO. CIVIL E PROCESSUAL CIVIL. CADERNETAS DE POUPANÇA. PRETENSÃO DE PAGAMENTO DE DIFERENÇAS DE RENDIMENTOS. JUROS REMUNERATÓRIOS. PRESCRIÇÃO VINTENÁRIA. 1. A Segunda Seção desta Corte de Justiça, no julgamento dos Recursos Especiais Repetitivos 1.107.201/DF e 1.147.595/RS, de relatoria do eminente Ministro SIDNEI BENETI, nos casos em que se discute recebimento de diferenças de perdas decorrentes dos planos econômicos em cadernetas de poupança, consolidou orientação de que é vintenária a prescrição nas ações individuais em que são questionados os critérios de remuneração da caderneta de poupança e são postuladas as respectivas diferenças, sendo inaplicável às ações individuais o prazo decadencial quinquenal atinente à ação civil pública. 2. As decisões em que o egrégio Supremo Tribunal Federal reconhece a repercussão geral e determina a suspensão dos processos relacionados à restituição de expurgos inflacionários (RE 591.797/SP e 626.307/SP, Apelação Cível nº 0000150-84.2015.8.26.0315 - Laranjal Paulista 1 0/15 Relator o eminente Ministro DIAS TOFFOLI e Ag 754.745, Relator o eminente Ministro GILMAR MENDES) não inviabilizam a análise do presente recurso, no qual se discute apenas prazo prescricional. 3. Agravo regimental a que se nega provimento” (AgRg no AI nº 1.260.362-RS, Quarta Turma, rel. Min. Raul Araújo, j. 05/09/2013). Destaque-se que os juros remuneratórios, a que faz jus o poupador, conforme recente entendimento consolidado no Superior Tribunal de Justiça, devem ter fluência até a data do encerramento da conta-poupança. Aludido posicionamento, agora adotado por este Relator, toma como premissa o fato de constituírem os juros frutos civis que representam prestações acessórias ligadas à obrigação principal, de modo que, extinto o negócio jurídico principal, não mais subsiste o acessório. E no que tange especificamente à conta-poupança, ocorrido o seu encerramento, incabível se mostra a permanência da incidência dos juros, na medida em que o poupador não mais continua privado da utilização do capital. Ainda segundo o entendimento do Superior Tribunal de Justiça, incumbe ao banco depositário referida comprovação, sob pena de adotar-se como marco final de incidência a data da citação nos autos da ação civil pública que originou o cumprimento de sentença. Conferir, nesse aspecto, jurisprudência daquele Egrégio Sodalício: RECURSO ESPECIAL. CIVIL E PROCESSUAL CIVIL. CUMPRIMENTO INDIVIDUAL DE SENTENÇA COLETIVA. EXPURGOS INFLACIONÁRIOS. JUROS REMUNERATÓRIOS. TERMO FINAL. CONTA POUPANÇA. DATA DE ENCERRAMENTO. CONTRATO DE DEPÓSITO. 1. Cuida-se, na origem, de impugnação ao cumprimento de sentença em ação coletiva na qual se decidiu que os juros remuneratórios deveriam incidir somente durante o período em que a conta-poupança esteve aberta. 2. A extinção do contrato de depósito ocorre com a retirada de toda a quantia que estiver depositada ou com o pedido de encerramento da conta bancária feito pelo depositante e a consequente devolução do montante pecuniário. Apelação Cível nº 0000150-84.2015.8.26.0315 - Laranjal Paulista 1 1/15 3. Os juros remuneratórios são devidos em virtude da utilização de capital alheio, de forma que, inexistindo quantia depositada, não se justifica a incidência de juros remuneratórios, pois o depositante não estará privado da utilização do dinheiro e o banco depositário não estará fazendo uso do capital de terceiros ou não terá a disponibilidade da pecúnia. Precedentes. 4. A incidência dos juros remuneratórios, na espécie, se dá até o encerramento da conta-poupança, quer esta ocorra em razão do saque integral dos valores depositados, quer ocorra a pedido do depositante, com a consequente devolução do numerário depositado. 5. Cabe ao banco depositário a comprovação da data do encerramento da conta-poupança, sob pena de se adotar como marco final de incidência dos juros remuneratórios a data da citação nos autos da ação civil pública que originou o cumprimento de sentença. 6. Recurso especial provido. (REsp nº 1524196/MS, 3ª Turma, rel. Min. Ricardo Villas Bôas Cueva, j. em 22.09.2015). AGRAVO REGIMENTAL NO AGRAVO EM RECURSO ESPECIAL. AÇÃO CIVIL PÚBLICA. IMPUGNAÇÃO DO CUMPRIMENTO DE SENTENÇA. EXPURGOS INFLACIONÁRIOS EM CADERNETA DE POUPANÇA. TERMO FINAL DOS JUROS REMUNERATÓRIOS. INCIDÊNCIA ATÉ A DATA DO ENCERRAMENTO DA CONTA- POUPANÇA. RECURSO ESPECIAL. JULGAMENTO MONOCRÁTICO PELO RELATOR. POSSIBILIDADE. AGRAVO REGIMENTAL NÃO PROVIDO. 1. Em relação ao termo final dos juros remuneratórios, anote-se que o entendimento desta Corte Superior é de que estes incidem até a data de encerramento da conta-poupança, \"porque (1) após o seu encerramento não se justifica a incidência de juros, já que o poupador não mais estará privado da utilização de seu capital; e, (2) os juros são frutos civis e representam prestações acessórias ligadas à obrigação principal. Como acessória, a prestação de juros remuneratórios não subiste com a extinção do negócio jurídico\" (AgRg no REsp 1.505.007/MS, Rel. Ministro MOURA RIBEIRO, TERCEIRA TURMA, DJe de 18/5/2015). Apelação Cível nº 0000150-84.2015.8.26.0315 - Laranjal Paulista 1 2/15 2. É possível ao relator, monocraticamente, dar provimento ao recurso especial quando a decisão recorrida estiver em manifesto confronto com súmula ou com jurisprudência dominante desta Corte Superior. Exegese do art. 557, § 1º, do Código de Processo Civil. 3. Agravo regimental a que se nega provimento. (AgRg no AREsp nº 620547/MS, 4ª Turma, rel. Min. Raul Araújo, j. em 17.09.2015). Quanto ao marco inicial dos juros moratórios, consoante a sentença proferida na Ação Civil Pública em questão, e a orientação confirmada pela jurisprudência do Superior Tribunal de Justiça, no Recurso Repetitivo nº 1.370.899-SP, está definida sua incidência a partir da data da citação efetuada naqueles autos. Conferir, a propósito: AÇÃO CIVIL PÚBLICA - CADERNETA DE POUPANÇA - PLANOS ECONÔMICOS - EXECUÇÃO - JUROS MORATÓRIOS A PARTIR DA DATA DA CITAÇÃO PARA A AÇÃO COLETIVA - VALIDADE - PRETENSÃO A CONTAGEM DESDE A DATA DE CADA CITAÇÃO PARA CADA EXECUÇÃO INDIVIDUAL - RECURSO ESPECIAL IMPROVIDO. 1.- Admite-se, no sistema de julgamento de Recursos Repetitivos (CPC, art. 543-C, e Resolução STJ 08/98), a definição de tese uniforme, para casos idênticos, da mesma natureza, estabelecendo as mesmas consequências jurídicas, como ocorre relativamente à data de início da fluência de juros moratórios incidentes sobre indenização por perdas em Cadernetas de Poupança, em decorrência de Planos Econômicos. 2.- A sentença de procedência da Ação Civil Pública de natureza condenatória, condenando o estabelecimento bancário depositário de Cadernetas de Poupança a indenizar perdas decorrentes de Planos Econômicos, estabelece os limites da obrigação, cujo cumprimento, relativamente a cada um dos titulares individuais das contas bancárias, visa tão-somente a adequar a condenação a idênticas situações jurídicas específicas, não interferindo, portando, na data de início da incidência de juros moratórios, que correm a partir da data da citação para a Ação Civil Pública. 3.- Dispositivos legais que visam à facilitação da defesa de direitos Apelação Cível nº 0000150-84.2015.8.26.0315 - Laranjal Paulista 1 3/15 individuais homogêneos, propiciada pelos instrumentos de tutela coletiva, inclusive assegurando a execução individual de condenação em Ação Coletiva, não podem ser interpretados em prejuízo da realização material desses direitos e, ainda, em detrimento da própria finalidade da Ação Coletiva, que é prescindir do ajuizamento individual, e contra a confiança na efetividade da Ação Civil Pública, O que levaria ao incentivo à opção pelo ajuizamento individual e pela judicialização multitudinária, que é de rigor evitar. 3.- Para fins de julgamento de Recurso Representativo de Controvérsia (CPC, art. 543-C, com a redação dada pela Lei 11.418, de 19.12.2006), declara-se consolidada a tese seguinte: \"Os juros de mora incidem a partir da citação do devedor na fase de conhecimento da Ação Civil Pública, quando esta se fundar em responsabilidade contratual, se que haja configuração da mora em momento anterior.\" 4.- Recurso Especial improvido. (REsp nº 1370899/SP, Corte Especial, rel. Min. Sidnei Beneti, j. 21/05/2014). Ora, como esta questão já estava estipulada anteriormente na antes referida sentença, esta que transitou em julgado há vários anos, é evidente que não poderia haver mais discussão alguma sobre o tema. Basta esta constatação para proclamar-se aqui a persistência da coisa julgada, e, assim, a determinação de que o marco inicial de fluência dos juros moratórios é correspondente, na hipótese, à data de citação na Ação Civil Pública adrede apontada. No que toca à verba honorária fixada em favor do apelado nesta fase de cumprimento de sentença, razão assiste ao recorrente, ainda que por outro fundamento. Consultando-se o processo, verifica-se que o depósito de fls. 52 foi realizado dentro do prazo legal, e esta situação não gera para o recorrido direito à fixação de verba honorária, uma vez que, nesta circunstância, e considerando que se trata, na hipótese, de decisão proferida em incidente processual, não há na lei o que autorizasse a imposição daquele pagamento. Nesse sentido, cumpre destacar orientação posta no Recurso Especial repetitivo (REsp nº 1.134.186/RS), ao analisar a questão no âmbito do cumprimento de sentença então estabelecido no art. 475-J, do Código de Processo Civil/1973: \"RECURSO ESPECIAL REPETITIVO. DIREITO PROCESSUAL CIVIL. Apelação Cível nº 0000150-84.2015.8.26.0315 - Laranjal Paulista 1 4/15 CUMPRIMENTO DE SENTENÇA. IMPUGNAÇÃO. HONORÁRIOS ADVOCATÍCIOS. 1. Para efeitos do art. 543-C do CPC: 1.1. São cabíveis honorários advocatícios em fase de cumprimento de sentença, haja ou não impugnação, depois de escoado o prazo para pagamento voluntário a que alude o art. 475-J do CPC, que somente se inicia após a intimação do advogado, com a baixa dos autos e a aposição do \"cumpra-se\" (REsp. n.º 940.274/MS). 1.2. Não são cabíveis honorários advocatícios pela rejeição da impugnação ao cumprimento de sentença. 1.3. Apenas no caso de acolhimento da impugnação, ainda que parcial, serão arbitrados honorários em benefício do executado, com base no art. 20, § 4º, do CPC. 2. Recurso especial provido\" (Corte Especial, rel. Min. Luis Felipe Salomão, j. 01/08/2011). Na atualidade, aliás, o art. 523, § 1º, do Código de Processo Civil de 2015, claramente, determina que haja a condenação em honorários de advogado tão somente para o caso de não ocorrer pagamento voluntário no prazo do caput, de aludida disposição, e basta isto para ver-se que, na situação do processo em análise, descabida era a supra aludida condenação. Por ser deste modo, determina-se o afastamento da imposição feita ao apelante ao pagamento da verba honorária. Finalmente, apenas para evitar futuros questionamentos desnecessários, observo que tenho por expressamente ventilados, neste grau de jurisdição, todos dispositivos legais e constitucionais citados em sede recursal. Nesses termos, DOU PARCIAL PROVIMENTO ao recurso, devendo os autos retornarem à origem para realização de novos cálculos de acordo com os parâmetros acima estabelecidos. JOÃO BATISTA VILHENA Relator Apelação Cível nº 0000150-84.2015.8.26.0315 - Laranjal Paulista 1 5/15 '"
      ]
     },
     "execution_count": 15,
     "metadata": {},
     "output_type": "execute_result"
    }
   ],
   "source": [
    "dataset['formatado'][0]"
   ]
  },
  {
   "cell_type": "code",
   "execution_count": 7,
   "metadata": {},
   "outputs": [
    {
     "data": {
      "text/plain": [
       "1337"
      ]
     },
     "execution_count": 7,
     "metadata": {},
     "output_type": "execute_result"
    }
   ],
   "source": [
    "len(set(dataset['numero_processo']))"
   ]
  },
  {
   "cell_type": "code",
   "execution_count": 35,
   "metadata": {},
   "outputs": [],
   "source": [
    "dataset_pl = dataset.loc[dataset['codigos_movimentos_temas'] == 85738]\n",
    "sentences = list(dataset_pl['formatado'])"
   ]
  },
  {
   "cell_type": "code",
   "execution_count": 36,
   "metadata": {},
   "outputs": [
    {
     "data": {
      "text/plain": [
       "534"
      ]
     },
     "execution_count": 36,
     "metadata": {},
     "output_type": "execute_result"
    }
   ],
   "source": [
    "len(sentences)"
   ]
  },
  {
   "attachments": {},
   "cell_type": "markdown",
   "metadata": {},
   "source": [
    "# Creating a vocabulary"
   ]
  },
  {
   "cell_type": "code",
   "execution_count": 21,
   "metadata": {},
   "outputs": [],
   "source": [
    "# NLTK portuguese stopwords set\n",
    "stop_words = set(stopwords.words('portuguese'))\n",
    "stop_words.remove(\"não\")"
   ]
  },
  {
   "cell_type": "code",
   "execution_count": 22,
   "metadata": {},
   "outputs": [
    {
     "name": "stderr",
     "output_type": "stream",
     "text": [
      "100%|██████████| 579/579 [00:22<00:00, 26.09it/s]\n"
     ]
    }
   ],
   "source": [
    "words = set()\n",
    "\n",
    "for sentence in tqdm(sentences):\n",
    "    if isinstance(sentence, str):\n",
    "        cur_words = [word.lower() \n",
    "                     for word in \n",
    "                     nltk.word_tokenize(sentence) if \n",
    "                     (word.isalnum() and word.lower() not in stop_words)]\n",
    "    words.update(cur_words)"
   ]
  },
  {
   "cell_type": "code",
   "execution_count": 23,
   "metadata": {},
   "outputs": [],
   "source": [
    "with open('vocabulary.txt', 'w') as vocabulary:\n",
    "    for word in words:\n",
    "        vocabulary.write(word)\n",
    "        vocabulary.write('\\n')"
   ]
  },
  {
   "attachments": {},
   "cell_type": "markdown",
   "metadata": {},
   "source": [
    "# Creating a .tsv"
   ]
  },
  {
   "cell_type": "code",
   "execution_count": 24,
   "metadata": {},
   "outputs": [
    {
     "name": "stderr",
     "output_type": "stream",
     "text": [
      "100%|██████████| 579/579 [00:22<00:00, 26.15it/s]\n"
     ]
    }
   ],
   "source": [
    "ren_sentences = []\n",
    "\n",
    "for sentence in tqdm(sentences):\n",
    "    if (isinstance(sentence, str)):\n",
    "        cur_words = [word.lower() \n",
    "                     for word in \n",
    "                     nltk.word_tokenize(sentence) if \n",
    "                     (word.isalnum() and word.lower() not in stop_words)]\n",
    "        \n",
    "        new_sentence = ' '.join(cur_words)\n",
    "        if (new_sentence.strip() != \"\"):\n",
    "            ren_sentences.append(new_sentence)"
   ]
  },
  {
   "cell_type": "code",
   "execution_count": 25,
   "metadata": {},
   "outputs": [],
   "source": [
    "# Split train, test and validation\n",
    "X_train, X_rem = train_test_split(ren_sentences, train_size=0.7)\n",
    "X_test, X_val = train_test_split(X_rem, test_size=0.5)"
   ]
  },
  {
   "cell_type": "code",
   "execution_count": 26,
   "metadata": {},
   "outputs": [],
   "source": [
    "# Add labels\n",
    "train_list = [[sentence, 'train'] for sentence in X_train]\n",
    "test_list = [[sentence, 'test'] for sentence in X_test]\n",
    "val_list = [[sentence, 'val'] for sentence in X_val]\n",
    "\n",
    "# Concat lists\n",
    "concat_list = train_list + test_list + val_list"
   ]
  },
  {
   "cell_type": "code",
   "execution_count": 27,
   "metadata": {},
   "outputs": [
    {
     "data": {
      "text/html": [
       "<div>\n",
       "<style scoped>\n",
       "    .dataframe tbody tr th:only-of-type {\n",
       "        vertical-align: middle;\n",
       "    }\n",
       "\n",
       "    .dataframe tbody tr th {\n",
       "        vertical-align: top;\n",
       "    }\n",
       "\n",
       "    .dataframe thead th {\n",
       "        text-align: right;\n",
       "    }\n",
       "</style>\n",
       "<table border=\"1\" class=\"dataframe\">\n",
       "  <thead>\n",
       "    <tr style=\"text-align: right;\">\n",
       "      <th></th>\n",
       "      <th>text</th>\n",
       "      <th>train</th>\n",
       "    </tr>\n",
       "  </thead>\n",
       "  <tbody>\n",
       "    <tr>\n",
       "      <th>0</th>\n",
       "      <td>registro acórdão vistos relatados discutidos a...</td>\n",
       "      <td>train</td>\n",
       "    </tr>\n",
       "    <tr>\n",
       "      <th>1</th>\n",
       "      <td>registro acórdão vistos relatados discutidos a...</td>\n",
       "      <td>train</td>\n",
       "    </tr>\n",
       "    <tr>\n",
       "      <th>2</th>\n",
       "      <td>registro acórdão vistos relatados discutidos a...</td>\n",
       "      <td>train</td>\n",
       "    </tr>\n",
       "    <tr>\n",
       "      <th>3</th>\n",
       "      <td>registro acórdão vistos relatados discutidos a...</td>\n",
       "      <td>train</td>\n",
       "    </tr>\n",
       "    <tr>\n",
       "      <th>4</th>\n",
       "      <td>registro acórdão vistos relatados discutidos a...</td>\n",
       "      <td>train</td>\n",
       "    </tr>\n",
       "    <tr>\n",
       "      <th>...</th>\n",
       "      <td>...</td>\n",
       "      <td>...</td>\n",
       "    </tr>\n",
       "    <tr>\n",
       "      <th>574</th>\n",
       "      <td>registro acórdão vistos relatados discutidos a...</td>\n",
       "      <td>val</td>\n",
       "    </tr>\n",
       "    <tr>\n",
       "      <th>575</th>\n",
       "      <td>registro acórdão vistos relatados discutidos a...</td>\n",
       "      <td>val</td>\n",
       "    </tr>\n",
       "    <tr>\n",
       "      <th>576</th>\n",
       "      <td>registro acórdão vistos relatados discutidos a...</td>\n",
       "      <td>val</td>\n",
       "    </tr>\n",
       "    <tr>\n",
       "      <th>577</th>\n",
       "      <td>registro acórdão vistos relatados discutidos a...</td>\n",
       "      <td>val</td>\n",
       "    </tr>\n",
       "    <tr>\n",
       "      <th>578</th>\n",
       "      <td>registro acórdão vistos relatados discutidos a...</td>\n",
       "      <td>val</td>\n",
       "    </tr>\n",
       "  </tbody>\n",
       "</table>\n",
       "<p>579 rows × 2 columns</p>\n",
       "</div>"
      ],
      "text/plain": [
       "                                                  text  train\n",
       "0    registro acórdão vistos relatados discutidos a...  train\n",
       "1    registro acórdão vistos relatados discutidos a...  train\n",
       "2    registro acórdão vistos relatados discutidos a...  train\n",
       "3    registro acórdão vistos relatados discutidos a...  train\n",
       "4    registro acórdão vistos relatados discutidos a...  train\n",
       "..                                                 ...    ...\n",
       "574  registro acórdão vistos relatados discutidos a...    val\n",
       "575  registro acórdão vistos relatados discutidos a...    val\n",
       "576  registro acórdão vistos relatados discutidos a...    val\n",
       "577  registro acórdão vistos relatados discutidos a...    val\n",
       "578  registro acórdão vistos relatados discutidos a...    val\n",
       "\n",
       "[579 rows x 2 columns]"
      ]
     },
     "execution_count": 27,
     "metadata": {},
     "output_type": "execute_result"
    }
   ],
   "source": [
    "# Create Dataframe\n",
    "corpus_df = pd.DataFrame(concat_list, columns=['text', 'train']).replace('\"','', regex=True)\n",
    "corpus_df.to_csv('corpus.tsv', sep='\\t', index=False, header=False)\n",
    "corpus_df"
   ]
  }
 ],
 "metadata": {
  "kernelspec": {
   "display_name": "base",
   "language": "python",
   "name": "python3"
  },
  "language_info": {
   "codemirror_mode": {
    "name": "ipython",
    "version": 3
   },
   "file_extension": ".py",
   "mimetype": "text/x-python",
   "name": "python",
   "nbconvert_exporter": "python",
   "pygments_lexer": "ipython3",
   "version": "3.9.7"
  },
  "orig_nbformat": 4
 },
 "nbformat": 4,
 "nbformat_minor": 2
}
